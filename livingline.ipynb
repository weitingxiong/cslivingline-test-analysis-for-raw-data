{
 "cells": [
  {
   "cell_type": "code",
   "execution_count": 5,
   "metadata": {},
   "outputs": [],
   "source": [
    "import json\n",
    "import pandas as pd\n",
    "from pandas import DataFrame\n",
    "import matplotlib.pyplot as plt\n",
    "import seaborn as sns\n",
    "%matplotlib inline"
   ]
  },
  {
   "cell_type": "markdown",
   "metadata": {},
   "source": [
    "# 01 load data and parse data"
   ]
  },
  {
   "cell_type": "code",
   "execution_count": 6,
   "metadata": {},
   "outputs": [],
   "source": [
    "# load json\n",
    "with open('./clean_data_1.json') as datafile:\n",
    "    data1 = json.load(datafile)"
   ]
  },
  {
   "cell_type": "code",
   "execution_count": 7,
   "metadata": {},
   "outputs": [],
   "source": [
    "# split each row\n",
    "data_list = [row.split(',') for row in data1['data']]"
   ]
  },
  {
   "cell_type": "code",
   "execution_count": 8,
   "metadata": {},
   "outputs": [
    {
     "data": {
      "text/html": [
       "<div>\n",
       "<style scoped>\n",
       "    .dataframe tbody tr th:only-of-type {\n",
       "        vertical-align: middle;\n",
       "    }\n",
       "\n",
       "    .dataframe tbody tr th {\n",
       "        vertical-align: top;\n",
       "    }\n",
       "\n",
       "    .dataframe thead th {\n",
       "        text-align: right;\n",
       "    }\n",
       "</style>\n",
       "<table border=\"1\" class=\"dataframe\">\n",
       "  <thead>\n",
       "    <tr style=\"text-align: right;\">\n",
       "      <th></th>\n",
       "      <th>0</th>\n",
       "      <th>1</th>\n",
       "      <th>2</th>\n",
       "      <th>3</th>\n",
       "      <th>ts_receive</th>\n",
       "      <th>apmac</th>\n",
       "      <th>6</th>\n",
       "      <th>7</th>\n",
       "      <th>8</th>\n",
       "      <th>people</th>\n",
       "      <th>...</th>\n",
       "      <th>29</th>\n",
       "      <th>30</th>\n",
       "      <th>31</th>\n",
       "      <th>32</th>\n",
       "      <th>33</th>\n",
       "      <th>34</th>\n",
       "      <th>35</th>\n",
       "      <th>36</th>\n",
       "      <th>37</th>\n",
       "      <th>38</th>\n",
       "    </tr>\n",
       "  </thead>\n",
       "  <tbody>\n",
       "    <tr>\n",
       "      <th>0</th>\n",
       "      <td>tongji</td>\n",
       "      <td>1.0</td>\n",
       "      <td>002</td>\n",
       "      <td>1.1</td>\n",
       "      <td>1526441081726</td>\n",
       "      <td>e4956e418d91</td>\n",
       "      <td>93</td>\n",
       "      <td>1526441059297</td>\n",
       "      <td>55;69;79;80;81;82;83;84;85</td>\n",
       "      <td>286c079f8b17</td>\n",
       "      <td>...</td>\n",
       "      <td>10327</td>\n",
       "      <td>778284</td>\n",
       "      <td>4</td>\n",
       "      <td>09</td>\n",
       "      <td>19</td>\n",
       "      <td>P1</td>\n",
       "      <td></td>\n",
       "      <td></td>\n",
       "      <td>上海市</td>\n",
       "      <td></td>\n",
       "    </tr>\n",
       "    <tr>\n",
       "      <th>1</th>\n",
       "      <td>tongji</td>\n",
       "      <td>1.0</td>\n",
       "      <td>002</td>\n",
       "      <td>1.1</td>\n",
       "      <td>1526441081726</td>\n",
       "      <td>e4956e418d91</td>\n",
       "      <td>93</td>\n",
       "      <td>1526441059297</td>\n",
       "      <td>68;69;71;72;76;77;79;82;78;73;74;75;80;81;83</td>\n",
       "      <td>206be7815f65</td>\n",
       "      <td>...</td>\n",
       "      <td>10327</td>\n",
       "      <td>778284</td>\n",
       "      <td>4</td>\n",
       "      <td>09</td>\n",
       "      <td>19</td>\n",
       "      <td>P1</td>\n",
       "      <td></td>\n",
       "      <td></td>\n",
       "      <td>上海市</td>\n",
       "      <td></td>\n",
       "    </tr>\n",
       "    <tr>\n",
       "      <th>2</th>\n",
       "      <td>tongji</td>\n",
       "      <td>1.0</td>\n",
       "      <td>002</td>\n",
       "      <td>1.1</td>\n",
       "      <td>1526441081726</td>\n",
       "      <td>e4956e418d91</td>\n",
       "      <td>93</td>\n",
       "      <td>1526441059297</td>\n",
       "      <td>85;86;83;84;88;81;82;87;89;90;91;92;60</td>\n",
       "      <td>8ca6df73f0f3</td>\n",
       "      <td>...</td>\n",
       "      <td>10327</td>\n",
       "      <td>778284</td>\n",
       "      <td>4</td>\n",
       "      <td>09</td>\n",
       "      <td>19</td>\n",
       "      <td>P1</td>\n",
       "      <td></td>\n",
       "      <td></td>\n",
       "      <td>上海市</td>\n",
       "      <td></td>\n",
       "    </tr>\n",
       "    <tr>\n",
       "      <th>3</th>\n",
       "      <td>tongji</td>\n",
       "      <td>1.0</td>\n",
       "      <td>002</td>\n",
       "      <td>1.1</td>\n",
       "      <td>1526441081726</td>\n",
       "      <td>e4956e418d91</td>\n",
       "      <td>93</td>\n",
       "      <td>1526441059297</td>\n",
       "      <td>71;72;73;75;82</td>\n",
       "      <td>64cc2e80101e</td>\n",
       "      <td>...</td>\n",
       "      <td>10327</td>\n",
       "      <td>778284</td>\n",
       "      <td>4</td>\n",
       "      <td>09</td>\n",
       "      <td>19</td>\n",
       "      <td>P1</td>\n",
       "      <td></td>\n",
       "      <td></td>\n",
       "      <td>上海市</td>\n",
       "      <td></td>\n",
       "    </tr>\n",
       "    <tr>\n",
       "      <th>4</th>\n",
       "      <td>tongji</td>\n",
       "      <td>1.0</td>\n",
       "      <td>002</td>\n",
       "      <td>1.1</td>\n",
       "      <td>1526441081726</td>\n",
       "      <td>e4956e418d91</td>\n",
       "      <td>93</td>\n",
       "      <td>1526441059297</td>\n",
       "      <td>83;79;80;81;82;77;78;84;76;86;69;70;71;72;73;7...</td>\n",
       "      <td>b0958e60c635</td>\n",
       "      <td>...</td>\n",
       "      <td>10327</td>\n",
       "      <td>778284</td>\n",
       "      <td>4</td>\n",
       "      <td>09</td>\n",
       "      <td>19</td>\n",
       "      <td>P1</td>\n",
       "      <td></td>\n",
       "      <td></td>\n",
       "      <td>上海市</td>\n",
       "      <td></td>\n",
       "    </tr>\n",
       "  </tbody>\n",
       "</table>\n",
       "<p>5 rows × 39 columns</p>\n",
       "</div>"
      ],
      "text/plain": [
       "        0    1    2    3     ts_receive         apmac   6              7  \\\n",
       "0  tongji  1.0  002  1.1  1526441081726  e4956e418d91  93  1526441059297   \n",
       "1  tongji  1.0  002  1.1  1526441081726  e4956e418d91  93  1526441059297   \n",
       "2  tongji  1.0  002  1.1  1526441081726  e4956e418d91  93  1526441059297   \n",
       "3  tongji  1.0  002  1.1  1526441081726  e4956e418d91  93  1526441059297   \n",
       "4  tongji  1.0  002  1.1  1526441081726  e4956e418d91  93  1526441059297   \n",
       "\n",
       "                                                   8        people ...     29  \\\n",
       "0                         55;69;79;80;81;82;83;84;85  286c079f8b17 ...  10327   \n",
       "1       68;69;71;72;76;77;79;82;78;73;74;75;80;81;83  206be7815f65 ...  10327   \n",
       "2             85;86;83;84;88;81;82;87;89;90;91;92;60  8ca6df73f0f3 ...  10327   \n",
       "3                                     71;72;73;75;82  64cc2e80101e ...  10327   \n",
       "4  83;79;80;81;82;77;78;84;76;86;69;70;71;72;73;7...  b0958e60c635 ...  10327   \n",
       "\n",
       "       30 31  32  33  34 35 36   37 38  \n",
       "0  778284  4  09  19  P1        上海市     \n",
       "1  778284  4  09  19  P1        上海市     \n",
       "2  778284  4  09  19  P1        上海市     \n",
       "3  778284  4  09  19  P1        上海市     \n",
       "4  778284  4  09  19  P1        上海市     \n",
       "\n",
       "[5 rows x 39 columns]"
      ]
     },
     "execution_count": 8,
     "metadata": {},
     "output_type": "execute_result"
    }
   ],
   "source": [
    "# get data into a dataframe\n",
    "df = pd.DataFrame.from_records(data_list)\n",
    "df.rename(columns={df.columns[4]:'ts_receive',df.columns[5]:'apmac',df.columns[9]:'people'},inplace=True)\n",
    "df.head()"
   ]
  },
  {
   "cell_type": "markdown",
   "metadata": {},
   "source": [
    "# 02 explore the data by vis"
   ]
  },
  {
   "cell_type": "markdown",
   "metadata": {},
   "source": [
    "## 1) explore each attribute of the data"
   ]
  },
  {
   "cell_type": "code",
   "execution_count": 9,
   "metadata": {},
   "outputs": [
    {
     "data": {
      "text/plain": [
       "[u'0003b9b11b68',\n",
       " u'e4956e418d4c',\n",
       " u'e4956e418d7c',\n",
       " u'e4956e418d91',\n",
       " u'e4956e418d92',\n",
       " u'e4956e418da7',\n",
       " u'e4956e418dda']"
      ]
     },
     "execution_count": 9,
     "metadata": {},
     "output_type": "execute_result"
    }
   ],
   "source": [
    "sorted(df['apmac'].unique())"
   ]
  },
  {
   "cell_type": "code",
   "execution_count": 10,
   "metadata": {},
   "outputs": [
    {
     "data": {
      "text/plain": [
       "[u'1526441081726',\n",
       " u'1526441085533',\n",
       " u'1526441089552',\n",
       " u'1526441091535',\n",
       " u'1526441091537',\n",
       " u'1526441094538',\n",
       " u'1526441094940']"
      ]
     },
     "execution_count": 10,
     "metadata": {},
     "output_type": "execute_result"
    }
   ],
   "source": [
    "sorted(df['ts_receive'].unique())"
   ]
  },
  {
   "cell_type": "markdown",
   "metadata": {},
   "source": [
    "From above, the original value of time and apmac is hard to recognize.\n",
    "\n",
    "Let's get a copy of data and replace their values with easier-recognized symbol."
   ]
  },
  {
   "cell_type": "code",
   "execution_count": 11,
   "metadata": {},
   "outputs": [
    {
     "data": {
      "text/html": [
       "<div>\n",
       "<style scoped>\n",
       "    .dataframe tbody tr th:only-of-type {\n",
       "        vertical-align: middle;\n",
       "    }\n",
       "\n",
       "    .dataframe tbody tr th {\n",
       "        vertical-align: top;\n",
       "    }\n",
       "\n",
       "    .dataframe thead th {\n",
       "        text-align: right;\n",
       "    }\n",
       "</style>\n",
       "<table border=\"1\" class=\"dataframe\">\n",
       "  <thead>\n",
       "    <tr style=\"text-align: right;\">\n",
       "      <th></th>\n",
       "      <th>0</th>\n",
       "      <th>1</th>\n",
       "      <th>2</th>\n",
       "      <th>3</th>\n",
       "      <th>ts_receive</th>\n",
       "      <th>apmac</th>\n",
       "      <th>6</th>\n",
       "      <th>7</th>\n",
       "      <th>8</th>\n",
       "      <th>people</th>\n",
       "      <th>...</th>\n",
       "      <th>29</th>\n",
       "      <th>30</th>\n",
       "      <th>31</th>\n",
       "      <th>32</th>\n",
       "      <th>33</th>\n",
       "      <th>34</th>\n",
       "      <th>35</th>\n",
       "      <th>36</th>\n",
       "      <th>37</th>\n",
       "      <th>38</th>\n",
       "    </tr>\n",
       "  </thead>\n",
       "  <tbody>\n",
       "    <tr>\n",
       "      <th>0</th>\n",
       "      <td>tongji</td>\n",
       "      <td>1.0</td>\n",
       "      <td>002</td>\n",
       "      <td>1.1</td>\n",
       "      <td>t6</td>\n",
       "      <td>f</td>\n",
       "      <td>93</td>\n",
       "      <td>1526441059297</td>\n",
       "      <td>55;69;79;80;81;82;83;84;85</td>\n",
       "      <td>286c079f8b17</td>\n",
       "      <td>...</td>\n",
       "      <td>10327</td>\n",
       "      <td>778284</td>\n",
       "      <td>4</td>\n",
       "      <td>09</td>\n",
       "      <td>19</td>\n",
       "      <td>P1</td>\n",
       "      <td></td>\n",
       "      <td></td>\n",
       "      <td>上海市</td>\n",
       "      <td></td>\n",
       "    </tr>\n",
       "    <tr>\n",
       "      <th>1</th>\n",
       "      <td>tongji</td>\n",
       "      <td>1.0</td>\n",
       "      <td>002</td>\n",
       "      <td>1.1</td>\n",
       "      <td>t6</td>\n",
       "      <td>f</td>\n",
       "      <td>93</td>\n",
       "      <td>1526441059297</td>\n",
       "      <td>68;69;71;72;76;77;79;82;78;73;74;75;80;81;83</td>\n",
       "      <td>206be7815f65</td>\n",
       "      <td>...</td>\n",
       "      <td>10327</td>\n",
       "      <td>778284</td>\n",
       "      <td>4</td>\n",
       "      <td>09</td>\n",
       "      <td>19</td>\n",
       "      <td>P1</td>\n",
       "      <td></td>\n",
       "      <td></td>\n",
       "      <td>上海市</td>\n",
       "      <td></td>\n",
       "    </tr>\n",
       "    <tr>\n",
       "      <th>2</th>\n",
       "      <td>tongji</td>\n",
       "      <td>1.0</td>\n",
       "      <td>002</td>\n",
       "      <td>1.1</td>\n",
       "      <td>t6</td>\n",
       "      <td>f</td>\n",
       "      <td>93</td>\n",
       "      <td>1526441059297</td>\n",
       "      <td>85;86;83;84;88;81;82;87;89;90;91;92;60</td>\n",
       "      <td>8ca6df73f0f3</td>\n",
       "      <td>...</td>\n",
       "      <td>10327</td>\n",
       "      <td>778284</td>\n",
       "      <td>4</td>\n",
       "      <td>09</td>\n",
       "      <td>19</td>\n",
       "      <td>P1</td>\n",
       "      <td></td>\n",
       "      <td></td>\n",
       "      <td>上海市</td>\n",
       "      <td></td>\n",
       "    </tr>\n",
       "    <tr>\n",
       "      <th>3</th>\n",
       "      <td>tongji</td>\n",
       "      <td>1.0</td>\n",
       "      <td>002</td>\n",
       "      <td>1.1</td>\n",
       "      <td>t6</td>\n",
       "      <td>f</td>\n",
       "      <td>93</td>\n",
       "      <td>1526441059297</td>\n",
       "      <td>71;72;73;75;82</td>\n",
       "      <td>64cc2e80101e</td>\n",
       "      <td>...</td>\n",
       "      <td>10327</td>\n",
       "      <td>778284</td>\n",
       "      <td>4</td>\n",
       "      <td>09</td>\n",
       "      <td>19</td>\n",
       "      <td>P1</td>\n",
       "      <td></td>\n",
       "      <td></td>\n",
       "      <td>上海市</td>\n",
       "      <td></td>\n",
       "    </tr>\n",
       "    <tr>\n",
       "      <th>4</th>\n",
       "      <td>tongji</td>\n",
       "      <td>1.0</td>\n",
       "      <td>002</td>\n",
       "      <td>1.1</td>\n",
       "      <td>t6</td>\n",
       "      <td>f</td>\n",
       "      <td>93</td>\n",
       "      <td>1526441059297</td>\n",
       "      <td>83;79;80;81;82;77;78;84;76;86;69;70;71;72;73;7...</td>\n",
       "      <td>b0958e60c635</td>\n",
       "      <td>...</td>\n",
       "      <td>10327</td>\n",
       "      <td>778284</td>\n",
       "      <td>4</td>\n",
       "      <td>09</td>\n",
       "      <td>19</td>\n",
       "      <td>P1</td>\n",
       "      <td></td>\n",
       "      <td></td>\n",
       "      <td>上海市</td>\n",
       "      <td></td>\n",
       "    </tr>\n",
       "  </tbody>\n",
       "</table>\n",
       "<p>5 rows × 39 columns</p>\n",
       "</div>"
      ],
      "text/plain": [
       "        0    1    2    3 ts_receive apmac   6              7  \\\n",
       "0  tongji  1.0  002  1.1         t6     f  93  1526441059297   \n",
       "1  tongji  1.0  002  1.1         t6     f  93  1526441059297   \n",
       "2  tongji  1.0  002  1.1         t6     f  93  1526441059297   \n",
       "3  tongji  1.0  002  1.1         t6     f  93  1526441059297   \n",
       "4  tongji  1.0  002  1.1         t6     f  93  1526441059297   \n",
       "\n",
       "                                                   8        people ...     29  \\\n",
       "0                         55;69;79;80;81;82;83;84;85  286c079f8b17 ...  10327   \n",
       "1       68;69;71;72;76;77;79;82;78;73;74;75;80;81;83  206be7815f65 ...  10327   \n",
       "2             85;86;83;84;88;81;82;87;89;90;91;92;60  8ca6df73f0f3 ...  10327   \n",
       "3                                     71;72;73;75;82  64cc2e80101e ...  10327   \n",
       "4  83;79;80;81;82;77;78;84;76;86;69;70;71;72;73;7...  b0958e60c635 ...  10327   \n",
       "\n",
       "       30 31  32  33  34 35 36   37 38  \n",
       "0  778284  4  09  19  P1        上海市     \n",
       "1  778284  4  09  19  P1        上海市     \n",
       "2  778284  4  09  19  P1        上海市     \n",
       "3  778284  4  09  19  P1        上海市     \n",
       "4  778284  4  09  19  P1        上海市     \n",
       "\n",
       "[5 rows x 39 columns]"
      ]
     },
     "execution_count": 11,
     "metadata": {},
     "output_type": "execute_result"
    }
   ],
   "source": [
    "frame = df.copy()\n",
    "frame['ts_receive'].replace({'1526441091537':'t1','1526441094538':'t2','1526441089552':'t3','1526441085533':'t4','1526441091535':'t5','1526441081726':'t6','1526441094940':'t7'},inplace=True)\n",
    "frame['apmac'].replace({'e4956e418d92':'a','e4956e418da7':'b','e4956e418d4c':'c','e4956e418dda':'d','0003b9b11b68':'e','e4956e418d91':'f','e4956e418d7c':'g'},inplace=True)\n",
    "frame.head()"
   ]
  },
  {
   "cell_type": "markdown",
   "metadata": {},
   "source": [
    "Now, the value of apmac and time look like this:"
   ]
  },
  {
   "cell_type": "code",
   "execution_count": 12,
   "metadata": {},
   "outputs": [
    {
     "data": {
      "text/plain": [
       "['a', 'b', 'c', 'd', 'e', 'f', 'g']"
      ]
     },
     "execution_count": 12,
     "metadata": {},
     "output_type": "execute_result"
    }
   ],
   "source": [
    "sorted(frame['apmac'].unique())"
   ]
  },
  {
   "cell_type": "code",
   "execution_count": 13,
   "metadata": {},
   "outputs": [
    {
     "data": {
      "text/plain": [
       "['t1', 't2', 't3', 't4', 't5', 't6', 't7']"
      ]
     },
     "execution_count": 13,
     "metadata": {},
     "output_type": "execute_result"
    }
   ],
   "source": [
    "sorted(frame['ts_receive'].unique())"
   ]
  },
  {
   "cell_type": "markdown",
   "metadata": {},
   "source": [
    "Check the number of records for each people."
   ]
  },
  {
   "cell_type": "code",
   "execution_count": 14,
   "metadata": {
    "scrolled": true
   },
   "outputs": [
    {
     "data": {
      "text/plain": [
       "1475908663ee    4\n",
       "286c079f8b17    4\n",
       "64cc2e80101e    3\n",
       "0007a8b390dc    3\n",
       "30fc68904513    3\n",
       "ec26ca11d060    3\n",
       "e4f4c60c969a    2\n",
       "206be7815f65    2\n",
       "dc2a1423ac62    2\n",
       "98bc5770bb38    2\n",
       "b808d77ccc84    2\n",
       "000000000000    2\n",
       "34bdf9147270    2\n",
       "90b686d8ab47    1\n",
       "38a4ed1e3f80    1\n",
       "b8763f8fa9bf    1\n",
       "6409802b52c2    1\n",
       "acc1ee72b4c4    1\n",
       "acd074254a41    1\n",
       "fc1a113d4834    1\n",
       "f8983a0023e1    1\n",
       "e89eb41693ab    1\n",
       "b0958eea2ac1    1\n",
       "28faa02e8ede    1\n",
       "e4f3f5a51758    1\n",
       "e447902ac2a9    1\n",
       "14a51a247de2    1\n",
       "6c3e6db90fcd    1\n",
       "e005c5b48dc0    1\n",
       "0c1dafdbd79f    1\n",
       "               ..\n",
       "c83dd4a19615    1\n",
       "70f087b18376    1\n",
       "f429815fd68e    1\n",
       "0008226044fc    1\n",
       "38295ac71e13    1\n",
       "c83a35fbd948    1\n",
       "000aeba35a03    1\n",
       "04e676452150    1\n",
       "d8004ddc6cef    1\n",
       "4045dad74011    1\n",
       "581f28169145    1\n",
       "c485085e7676    1\n",
       "50bd5f4805e4    1\n",
       "5800e3dabbfd    1\n",
       "38a4edfa2b3b    1\n",
       "28cfe9d5c889    1\n",
       "00f4b9eb1ae1    1\n",
       "f80113313bbc    1\n",
       "9492bceb8b49    1\n",
       "541379d05d4f    1\n",
       "e4f3f543f946    1\n",
       "30c3d9bada66    1\n",
       "e02cb2ad6294    1\n",
       "24099516d9e3    1\n",
       "f01b6c3f53d6    1\n",
       "882593782fa1    1\n",
       "440444511ffb    1\n",
       "a03e6b4e0883    1\n",
       "649abe1e512e    1\n",
       "78a10662281a    1\n",
       "Name: people, Length: 118, dtype: int64"
      ]
     },
     "execution_count": 14,
     "metadata": {},
     "output_type": "execute_result"
    }
   ],
   "source": [
    "frame['people'].value_counts()"
   ]
  },
  {
   "cell_type": "markdown",
   "metadata": {},
   "source": [
    "The reseult implys sparse records for each people."
   ]
  },
  {
   "cell_type": "markdown",
   "metadata": {},
   "source": [
    "## 2) vis the livingline"
   ]
  },
  {
   "cell_type": "markdown",
   "metadata": {},
   "source": [
    "Since there are so many people with sparse data, a good strategy to explore the living line is to sample the people and only visualize those being sampled."
   ]
  },
  {
   "cell_type": "code",
   "execution_count": 30,
   "metadata": {},
   "outputs": [],
   "source": [
    "# fix sample: representative samples\n",
    "# sample_people = ['1475908663ee', '286c079f8b17', '30fc68904513', '206be7815f65'] # with 4,4,3,2 records respectively\n",
    "\n",
    "# top-records sample\n",
    "sample_people = frame['people'].value_counts()[:10].index.tolist()\n",
    "\n",
    "# random sample\n",
    "# sample_people = frame['people'].sample(n=5).tolist()"
   ]
  },
  {
   "cell_type": "markdown",
   "metadata": {},
   "source": [
    "Now visualize their living line"
   ]
  },
  {
   "cell_type": "code",
   "execution_count": 34,
   "metadata": {},
   "outputs": [
    {
     "data": {
      "text/plain": [
       "<matplotlib.legend.Legend at 0xded5c50>"
      ]
     },
     "execution_count": 34,
     "metadata": {},
     "output_type": "execute_result"
    },
    {
     "data": {
      "image/png": "[encoded data removed]",
      "text/plain": [
       "<matplotlib.figure.Figure at 0xe1b78d0>"
      ]
     },
     "metadata": {},
     "output_type": "display_data"
    }
   ],
   "source": [
    "# plotting using matplotlib\n",
    "plt.figure(figsize=(10,8))\n",
    "ax = plt.gca()\n",
    "## set x, y tick labels\n",
    "ax.set_xticklabels(sorted(frame['apmac'].unique()))\n",
    "ax.set_yticklabels(sorted(frame['ts_receive'].unique()))\n",
    "## draw the livingline for each people\n",
    "for person in sample_people:\n",
    "    plot_data = frame[frame['people'] == person].sort_values(by='ts_receive')\n",
    "    x = plot_data['apmac'].tolist()\n",
    "    y = plot_data['ts_receive'].tolist()\n",
    "    ax.plot(x, y)\n",
    "## set legend\n",
    "ax.legend(sample_people)"
   ]
  },
  {
   "cell_type": "markdown",
   "metadata": {},
   "source": [
    "Conclusion: From the top figure, we can see there is overlaping living line.\n",
    "\n",
    "To aparently show the overlapping area, I will change a visualization strategy using transparency."
   ]
  },
  {
   "cell_type": "code",
   "execution_count": 150,
   "metadata": {},
   "outputs": [
    {
     "data": {
      "text/plain": [
       "<matplotlib.legend.Legend at 0x111521910>"
      ]
     },
     "execution_count": 150,
     "metadata": {},
     "output_type": "execute_result"
    },
    {
     "data": {
      "image/png": "[encoded data removed]",
      "text/plain": [
       "<Figure size 720x576 with 1 Axes>"
      ]
     },
     "metadata": {},
     "output_type": "display_data"
    }
   ],
   "source": [
    "# plotting using matplotlib\n",
    "plt.figure(figsize=(10,8))\n",
    "ax = plt.gca()\n",
    "## set x, y tick labels\n",
    "ax.set_xticklabels(sorted(frame['apmac'].unique()))\n",
    "ax.set_yticklabels(sorted(frame['ts_receive'].unique()))\n",
    "## set legend\n",
    "ax.legend(sample_people)\n",
    "## draw the livingline for each people\n",
    "for person in sample_people:\n",
    "    plot_data = frame[frame['people'] == person].sort_values(by='ts_receive')\n",
    "    x = plot_data['apmac'].tolist()\n",
    "    y = plot_data['ts_receive'].tolist()\n",
    "    ax.plot(x, y, c='black', alpha=0.05)\n",
    "## set legend\n",
    "ax.legend(sample_people)"
   ]
  },
  {
   "cell_type": "markdown",
   "metadata": {},
   "source": [
    "The darker region the overlaping area."
   ]
  },
  {
   "cell_type": "code",
   "execution_count": 4,
   "metadata": {},
   "outputs": [
    {
     "ename": "TypeError",
     "evalue": "map() requires at least two args",
     "output_type": "error",
     "traceback": [
      "\u001b[1;31m\u001b[0m",
      "\u001b[1;31mTypeError\u001b[0mTraceback (most recent call last)",
      "\u001b[1;32m<ipython-input-4-0f7d9917e463>\u001b[0m in \u001b[0;36m<module>\u001b[1;34m()\u001b[0m\n\u001b[1;32m----> 1\u001b[1;33m \u001b[0mmap\u001b[0m\u001b[1;33m(\u001b[0m\u001b[1;33m)\u001b[0m\u001b[1;33m\u001b[0m\u001b[0m\n\u001b[0m",
      "\u001b[1;31mTypeError\u001b[0m: map() requires at least two args"
     ]
    }
   ],
   "source": [
    "map()"
   ]
  },
  {
   "cell_type": "code",
   "execution_count": null,
   "metadata": {},
   "outputs": [],
   "source": []
  },
  {
   "cell_type": "code",
   "execution_count": null,
   "metadata": {},
   "outputs": [],
   "source": []
  }
 ],
 "metadata": {
  "anaconda-cloud": {},
  "kernelspec": {
   "display_name": "Python 2",
   "language": "python",
   "name": "python2"
  },
  "language_info": {
   "codemirror_mode": {
    "name": "ipython",
    "version": 2
   },
   "file_extension": ".py",
   "mimetype": "text/x-python",
   "name": "python",
   "nbconvert_exporter": "python",
   "pygments_lexer": "ipython2",
   "version": "2.7.14"
  }
 },
 "nbformat": 4,
 "nbformat_minor": 2
}
